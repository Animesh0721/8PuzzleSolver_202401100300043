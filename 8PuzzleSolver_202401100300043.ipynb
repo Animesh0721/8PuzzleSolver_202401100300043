{
  "nbformat": 4,
  "nbformat_minor": 0,
  "metadata": {
    "colab": {
      "provenance": []
    },
    "kernelspec": {
      "name": "python3",
      "display_name": "Python 3"
    },
    "language_info": {
      "name": "python"
    }
  },
  "cells": [
    {
      "cell_type": "code",
      "execution_count": 4,
      "metadata": {
        "colab": {
          "base_uri": "https://localhost:8080/"
        },
        "id": "DgYnF5Gigj6p",
        "outputId": "76150120-77da-41c6-fa51-3772123dc8b5"
      },
      "outputs": [
        {
          "output_type": "stream",
          "name": "stdout",
          "text": [
            "Solution: ['R', 'D', 'L', 'L', 'U', 'R', 'D', 'R', 'U', 'L', 'L', 'D', 'R', 'R']\n"
          ]
        }
      ],
      "source": [
        "# Install & Import Dependencies\n",
        "import heapq\n"
      ]
    },
    {
      "cell_type": "code",
      "source": [
        "# Define the Manhattan Distance Heuristic\n",
        "def manhattan_distance(state, goal):\n",
        "    distance = 0\n",
        "    for i in range(1, 9):  # 1 to 8 (ignoring 0, the empty space)\n",
        "        xi, yi = divmod(state.index(i), 3)\n",
        "        xg, yg = divmod(goal.index(i), 3)\n",
        "        distance += abs(xi - xg) + abs(yi - yg)\n",
        "    return distance\n"
      ],
      "metadata": {
        "id": "SKjHAAqGjA2k"
      },
      "execution_count": null,
      "outputs": []
    },
    {
      "cell_type": "code",
      "source": [
        "# Generate Possible Moves\n",
        "def get_neighbors(state):\n",
        "    neighbors = []\n",
        "    empty_index = state.index(0)  # Empty space index\n",
        "    moves = {\"U\": -3, \"D\": 3, \"L\": -1, \"R\": 1}\n",
        "\n",
        "    for move, shift in moves.items():\n",
        "        new_index = empty_index + shift\n",
        "        if 0 <= new_index < 9 and not (empty_index % 3 == 0 and move == \"L\") and not (empty_index % 3 == 2 and move == \"R\"):\n",
        "            new_state = list(state)\n",
        "            new_state[empty_index], new_state[new_index] = new_state[new_index], new_state[empty_index]\n",
        "            neighbors.append((tuple(new_state), move))\n",
        "\n",
        "    return neighbors\n"
      ],
      "metadata": {
        "id": "N-QnlrHbjHn5"
      },
      "execution_count": null,
      "outputs": []
    },
    {
      "cell_type": "code",
      "source": [
        "# Implement the A Search Algorithm*\n",
        "def a_star_solver(start, goal):\n",
        "    open_set = []\n",
        "    heapq.heappush(open_set, (manhattan_distance(start, goal), start, []))\n",
        "    visited = set()\n",
        "\n",
        "    while open_set:\n",
        "        _, state, path = heapq.heappop(open_set)\n",
        "\n",
        "        if state == goal:\n",
        "            return path  # Solution found: list of moves\n",
        "\n",
        "        visited.add(state)\n",
        "\n",
        "        for new_state, move in get_neighbors(state):\n",
        "            if new_state not in visited:\n",
        "                new_cost = len(path) + 1 + manhattan_distance(new_state, goal)\n",
        "                heapq.heappush(open_set, (new_cost, new_state, path + [move]))\n",
        "\n",
        "    return None  # No solution found\n"
      ],
      "metadata": {
        "id": "3PqKilZFjPmH"
      },
      "execution_count": null,
      "outputs": []
    },
    {
      "cell_type": "code",
      "source": [
        "# Run the Solver with an Example\n",
        "start_state = (1, 2, 3, 4, 0, 5, 6, 7, 8)  # 0 represents the empty space\n",
        "goal_state = (1, 2, 3, 4, 5, 6, 7, 8, 0)\n",
        "\n",
        "solution = a_star_solver(start_state, goal_state)\n",
        "print(\"Solution:\", solution)\n"
      ],
      "metadata": {
        "colab": {
          "base_uri": "https://localhost:8080/"
        },
        "id": "OiaDuOByjXsW",
        "outputId": "ac1a4332-c763-49cc-a47f-ddfc7ebf340a"
      },
      "execution_count": 5,
      "outputs": [
        {
          "output_type": "stream",
          "name": "stdout",
          "text": [
            "Solution: ['R', 'D', 'L', 'L', 'U', 'R', 'D', 'R', 'U', 'L', 'L', 'D', 'R', 'R']\n"
          ]
        }
      ]
    }
  ]
}